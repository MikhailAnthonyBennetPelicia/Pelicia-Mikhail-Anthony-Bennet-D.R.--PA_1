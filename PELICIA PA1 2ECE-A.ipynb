{
 "cells": [
  {
   "cell_type": "markdown",
   "id": "b1febffd-d7fa-4dff-bff2-6ebc20ab6e74",
   "metadata": {},
   "source": [
    "Alphabet Soup: This program sorts the letters of a string in alphabetical order."
   ]
  },
  {
   "cell_type": "code",
   "execution_count": 19,
   "id": "16c6d58c-b9d3-44c5-9c4b-317b19f06b48",
   "metadata": {},
   "outputs": [],
   "source": [
    "def alphabet_soup(word):\n",
    "    return ''.join(sorted(word)) "
   ]
  },
  {
   "cell_type": "code",
   "execution_count": 20,
   "id": "20b2169b-4390-4825-8a44-c77f489dfd10",
   "metadata": {},
   "outputs": [
    {
     "name": "stdout",
     "output_type": "stream",
     "text": [
      "aceiilp\n"
     ]
    }
   ],
   "source": [
    "print(alphabet_soup(\"pelicia\"))"
   ]
  },
  {
   "cell_type": "code",
   "execution_count": 21,
   "id": "440ded32-027f-4572-af0b-c4763e49e7da",
   "metadata": {},
   "outputs": [
    {
     "name": "stdout",
     "output_type": "stream",
     "text": [
      "ahiiklm\n"
     ]
    }
   ],
   "source": [
    "print(alphabet_soup(\"mikhail\"))"
   ]
  },
  {
   "cell_type": "markdown",
   "id": "bf0ec552-e51b-42a5-837f-8bd4d510f251",
   "metadata": {},
   "source": [
    "Emoticon: This program replaces certain words into emoticons."
   ]
  },
  {
   "cell_type": "code",
   "execution_count": 22,
   "id": "9236e345-7d8d-429e-8a4c-30645ffed41f",
   "metadata": {},
   "outputs": [],
   "source": [
    "def emotify(emotion):\n",
    "    emotion = emotion.replace('smile', ':)')\n",
    "    emotion = emotion.replace('grin', ':D')\n",
    "    emotion = emotion.replace('sad', ':(')\n",
    "    emotion = emotion.replace('mad', '>:(')\n",
    "    return emotion"
   ]
  },
  {
   "cell_type": "code",
   "execution_count": 23,
   "id": "5f5856c8-4629-447b-8925-471c5844a71a",
   "metadata": {},
   "outputs": [
    {
     "name": "stdout",
     "output_type": "stream",
     "text": [
      "No classes make me :).\n"
     ]
    }
   ],
   "source": [
    "print(emotify(\"No classes make me smile.\"))"
   ]
  },
  {
   "cell_type": "code",
   "execution_count": 24,
   "id": "ec6f90e3-08e7-4b25-9ca8-d9b765596b1f",
   "metadata": {},
   "outputs": [
    {
     "name": "stdout",
     "output_type": "stream",
     "text": [
      "Early deadlines make me :(.\n"
     ]
    }
   ],
   "source": [
    "print(emotify(\"Early deadlines make me sad.\"))"
   ]
  },
  {
   "cell_type": "markdown",
   "id": "6999fe9a-5774-4c2d-a85c-107c333d7f4c",
   "metadata": {},
   "source": [
    "Unpacking List: This code unpacks a list into the first, middle, and last element."
   ]
  },
  {
   "cell_type": "code",
   "execution_count": 25,
   "id": "4455d1d3-df10-47e7-9547-abdf654db9d3",
   "metadata": {},
   "outputs": [
    {
     "name": "stdout",
     "output_type": "stream",
     "text": [
      "Unpacked List: \n"
     ]
    }
   ],
   "source": [
    "print(\"Unpacked List: \")\n",
    "\n",
    "writeyourcodehere = [1,2,3,4,5,6]\n",
    "\n",
    "first = writeyourcodehere[0]\n",
    "middle = writeyourcodehere[1:-1]\n",
    "last = writeyourcodehere[-1]"
   ]
  },
  {
   "cell_type": "code",
   "execution_count": 26,
   "id": "6766d7e6-2377-4888-b9f0-da7e12c91d90",
   "metadata": {},
   "outputs": [
    {
     "name": "stdout",
     "output_type": "stream",
     "text": [
      "First =  1\n"
     ]
    }
   ],
   "source": [
    "print(\"First = \", first)"
   ]
  },
  {
   "cell_type": "code",
   "execution_count": 27,
   "id": "37587dac-c896-4892-9ed6-9c52e6a1d10f",
   "metadata": {},
   "outputs": [
    {
     "name": "stdout",
     "output_type": "stream",
     "text": [
      "Middle =  [2, 3, 4, 5]\n"
     ]
    }
   ],
   "source": [
    "print(\"Middle = \", middle)"
   ]
  },
  {
   "cell_type": "code",
   "execution_count": 28,
   "id": "8f151ba5-91c5-476c-ab1e-265bc838cc2b",
   "metadata": {},
   "outputs": [
    {
     "name": "stdout",
     "output_type": "stream",
     "text": [
      "Last =  6\n"
     ]
    }
   ],
   "source": [
    "print(\"Last = \", last)"
   ]
  },
  {
   "cell_type": "code",
   "execution_count": null,
   "id": "962120de-bddb-4cda-847f-399fcdc11687",
   "metadata": {},
   "outputs": [],
   "source": []
  }
 ],
 "metadata": {
  "kernelspec": {
   "display_name": "Python 3 (ipykernel)",
   "language": "python",
   "name": "python3"
  },
  "language_info": {
   "codemirror_mode": {
    "name": "ipython",
    "version": 3
   },
   "file_extension": ".py",
   "mimetype": "text/x-python",
   "name": "python",
   "nbconvert_exporter": "python",
   "pygments_lexer": "ipython3",
   "version": "3.13.5"
  }
 },
 "nbformat": 4,
 "nbformat_minor": 5
}
